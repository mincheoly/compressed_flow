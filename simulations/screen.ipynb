{
 "cells": [
  {
   "cell_type": "markdown",
   "id": "6f584245-11db-4605-83c9-06f6906c551c",
   "metadata": {},
   "source": [
    "# Compressed screen simulation"
   ]
  },
  {
   "cell_type": "code",
   "execution_count": 36,
   "id": "be7ed2d1-198a-43d7-8897-f08d11306a45",
   "metadata": {},
   "outputs": [],
   "source": [
    "import numpy as np\n",
    "from scipy.optimize import minimize, nnls, LinearConstraint, lsq_linear\n",
    "import sklearn.linear_model as lm\n",
    "import scipy.stats as stats\n",
    "import matplotlib.pyplot as plt\n",
    "import seaborn as sns\n",
    "import einops\n",
    "import pandas as pd\n",
    "\n",
    "import scipy.sparse as sparse"
   ]
  },
  {
   "cell_type": "markdown",
   "id": "9f0209dc-e0cd-447f-a541-70058d4a1ead",
   "metadata": {},
   "source": [
    "### Define the experiment parameters"
   ]
  },
  {
   "cell_type": "code",
   "execution_count": 37,
   "id": "c52adf11-62e5-455a-9427-a8d78a7c7cdd",
   "metadata": {},
   "outputs": [],
   "source": [
    "num_markers = 10\n",
    "num_measurements = 5\n",
    "num_perturb = 100\n",
    "num_bins = 5\n",
    "num_cells = int(1e5)\n",
    "seq_depth = 100000\n",
    "\n",
    "# Divide by normal quantiles\n",
    "gates_min = stats.norm.ppf(np.linspace(0, 1, num_bins+1))[:-1]\n",
    "gates_max = stats.norm.ppf(np.linspace(0, 1, num_bins+1))[1:]\n",
    "repeated_gates_max = np.repeat(gates_max[np.newaxis, :], num_perturb, axis=0)\n",
    "repeated_gates_min = np.repeat(gates_min[np.newaxis, :], num_perturb, axis=0)\n",
    "\n",
    "num_markers_per_pool = 3\n",
    "pooled_gates_min = stats.norm.ppf(np.linspace(0, 1, num_bins+1), scale=np.sqrt(num_markers_per_pool))[:-1]\n",
    "pooled_gates_max = stats.norm.ppf(np.linspace(0, 1, num_bins+1), scale=np.sqrt(num_markers_per_pool))[1:]\n",
    "pooled_repeated_gates_max = np.repeat(pooled_gates_max[np.newaxis, :], num_perturb, axis=0)\n",
    "pooled_repeated_gates_min = np.repeat(pooled_gates_min[np.newaxis, :], num_perturb, axis=0)"
   ]
  },
  {
   "cell_type": "markdown",
   "id": "05b43cd4-3b85-49a1-a302-c9a5ef89dbcc",
   "metadata": {},
   "source": [
    "### Define the ground truth variables\n",
    "\n",
    "- `D`: True effect size of each guide on expression, `num_perturb x num_markers`\n",
    "- `S`: Guide assignment for single cells, `num_cells x num_perturb`"
   ]
  },
  {
   "cell_type": "code",
   "execution_count": 38,
   "id": "f64e2c1b-700f-4b09-9e63-cc32f0fad18f",
   "metadata": {},
   "outputs": [],
   "source": [
    "D = stats.norm.rvs(size=(num_perturb, num_markers), scale=2)\n",
    "# D[np.absolute(D) < -0.5] = 0\n",
    "# D[np.random.choice([True, False], p=[0.8, 0.2], size=D.shape)] = 0\n",
    "S = np.zeros((num_cells, num_perturb))\n",
    "for row in range(num_cells):\n",
    "    S[row, np.random.randint(num_perturb)]=1\n",
    "# print('Sanity check, guide assignment per cell', S.sum(axis=1))"
   ]
  },
  {
   "cell_type": "markdown",
   "id": "e0f8a572-32d3-4c0e-a291-90fb8461670a",
   "metadata": {},
   "source": [
    "### Generate single cells\n",
    "\n",
    "Single cell expression"
   ]
  },
  {
   "cell_type": "code",
   "execution_count": 39,
   "id": "30085886-9314-4038-8fa1-11a4dac2d183",
   "metadata": {},
   "outputs": [],
   "source": [
    "Z = stats.norm.rvs(S@D)"
   ]
  },
  {
   "cell_type": "code",
   "execution_count": 40,
   "id": "cffe28c8-5caf-4b47-9e6a-8d239a52e256",
   "metadata": {},
   "outputs": [
    {
     "data": {
      "text/plain": [
       "<AxesSubplot:ylabel='Density'>"
      ]
     },
     "execution_count": 40,
     "metadata": {},
     "output_type": "execute_result"
    },
    {
     "data": {
      "image/png": "[encoded data removed]",
      "text/plain": [
       "<Figure size 432x288 with 1 Axes>"
      ]
     },
     "metadata": {
      "needs_background": "light"
     },
     "output_type": "display_data"
    }
   ],
   "source": [
    "sns.kdeplot(Z[:, 0])\n",
    "sns.kdeplot(stats.norm.rvs(size=10000))"
   ]
  },
  {
   "cell_type": "markdown",
   "id": "67923787-3dea-471a-8b58-e40214ffa3c4",
   "metadata": {},
   "source": [
    "### Sort and sequence for \"vanilla\" screen"
   ]
  },
  {
   "cell_type": "code",
   "execution_count": 41,
   "id": "bc61e1a0-92b1-48b7-8175-c1fc28fd638a",
   "metadata": {},
   "outputs": [],
   "source": [
    "def sort_sequence_vanilla(Z, S):\n",
    "    \n",
    "    num_cells_per_measurement = int(num_cells/num_markers)\n",
    "\n",
    "    S_list = np.array_split(S, num_markers)\n",
    "    Z_list = np.array_split(Z, num_markers)\n",
    "    \n",
    "    Y_vanilla = np.zeros((num_markers, num_bins, num_perturb))\n",
    "\n",
    "    for i in range(num_markers):\n",
    "\n",
    "        for b in range(num_bins):\n",
    "\n",
    "            cell_filter = (Z_list[i][:, i] > gates_min[b]) & (Z_list[i][:, i] < gates_max[b])\n",
    "\n",
    "            Y_vanilla[i,b,:] = S_list[i][cell_filter].mean(axis=0)\n",
    "    \n",
    "    return Y_vanilla"
   ]
  },
  {
   "cell_type": "code",
   "execution_count": 42,
   "id": "17627802-2669-48c0-b6f2-5c91a3bb4707",
   "metadata": {},
   "outputs": [],
   "source": [
    "Y_vanilla = sort_sequence_vanilla(Z,S)"
   ]
  },
  {
   "cell_type": "markdown",
   "id": "9541d78b-a5c7-47dc-a228-29ed08cde490",
   "metadata": {},
   "source": [
    "### MLE approach"
   ]
  },
  {
   "cell_type": "code",
   "execution_count": 43,
   "id": "d04f5742-f7be-4c4b-94ec-956671cd5f12",
   "metadata": {},
   "outputs": [],
   "source": [
    "bin_probs = [((Z[:, [i]] < gates_max[np.newaxis, :]) & (Z[:, [i]] > gates_min[np.newaxis, :])).mean(axis=0) for i in range(num_markers)]"
   ]
  },
  {
   "cell_type": "code",
   "execution_count": 44,
   "id": "18ee3962-feeb-48c0-a10d-e034d659c85d",
   "metadata": {},
   "outputs": [],
   "source": [
    "def theoretical_sort_sequence_vanilla(D_):\n",
    "    \n",
    "\n",
    "    Y_ = np.zeros((num_markers, num_bins, num_perturb))\n",
    "    \n",
    "    for i in range(num_markers):\n",
    "        \n",
    "        mean = D_[:, [i]]\n",
    "        stdn = stats.norm(loc=np.zeros(mean.shape))\n",
    "        grv = stats.norm(loc=mean)\n",
    "        \n",
    "        Y_[i,:,:] = ( (grv.cdf(repeated_gates_max)-grv.cdf(repeated_gates_min)) * (1/num_perturb) / bin_probs[i]).T #(stdn.cdf(repeated_gates_max)-stdn.cdf(repeated_gates_min)) ).T\n",
    "        \n",
    "#         for b in range(num_bins):\n",
    "            \n",
    "#             for p in range(num_perturb):\n",
    "                \n",
    "#                 mean = D_[p, i]\n",
    "#                 stdn = stats.norm(loc=0)\n",
    "#                 grv = stats.norm(loc=mean)\n",
    "#                 Y_[i,b,p] = (grv.cdf(gates_max[b])-grv.cdf(gates_min[b])) * (1/num_perturb) / (stdn.cdf(gates_max[b])-stdn.cdf(gates_min[b]))\n",
    "    return Y_"
   ]
  },
  {
   "cell_type": "code",
   "execution_count": 45,
   "id": "728647d7-5d00-4620-a345-a5590a55281f",
   "metadata": {},
   "outputs": [],
   "source": [
    "def vanilla_mle_objective(D_):\n",
    "    \n",
    "    D_ = D_.reshape((num_perturb, num_markers))\n",
    "    \n",
    "    Y_ = theoretical_sort_sequence_vanilla(D_)\n",
    "    \n",
    "    return np.log((np.absolute(Y_vanilla - Y_)).mean() + 1e-4*np.linalg.norm(D_, ord=1)/(num_perturb*num_markers))"
   ]
  },
  {
   "cell_type": "code",
   "execution_count": 46,
   "id": "035c33de-e203-44ad-8bfd-f7afe4033cc9",
   "metadata": {},
   "outputs": [
    {
     "data": {
      "text/plain": [
       "-4.5552926830900935"
      ]
     },
     "execution_count": 46,
     "metadata": {},
     "output_type": "execute_result"
    }
   ],
   "source": [
    "D0 = stats.norm.rvs(size=D.shape, scale=0.1)\n",
    "D0[np.random.choice([True, False], p=[0.9, 0.1], size=D0.shape)] = 0\n",
    "\n",
    "vanilla_mle_objective(D0)"
   ]
  },
  {
   "cell_type": "code",
   "execution_count": 47,
   "id": "d479367c-0bff-49f1-bbab-c03d7a3e96b7",
   "metadata": {},
   "outputs": [
    {
     "name": "stdout",
     "output_type": "stream",
     "text": [
      "CPU times: user 20 ms, sys: 2.22 ms, total: 22.2 ms\n",
      "Wall time: 20.5 ms\n"
     ]
    },
    {
     "data": {
      "text/plain": [
       "-6.359030084458597"
      ]
     },
     "execution_count": 47,
     "metadata": {},
     "output_type": "execute_result"
    }
   ],
   "source": [
    "%%time\n",
    "vanilla_mle_objective(D)"
   ]
  },
  {
   "cell_type": "code",
   "execution_count": 48,
   "id": "cf16c00f-21ff-4525-8b25-437482ab2acd",
   "metadata": {},
   "outputs": [
    {
     "name": "stdout",
     "output_type": "stream",
     "text": [
      "CPU times: user 20.3 ms, sys: 1.53 ms, total: 21.8 ms\n",
      "Wall time: 20.8 ms\n"
     ]
    },
    {
     "data": {
      "text/plain": [
       "-4.555230048400493"
      ]
     },
     "execution_count": 48,
     "metadata": {},
     "output_type": "execute_result"
    }
   ],
   "source": [
    "%%time\n",
    "vanilla_mle_objective(np.zeros(D.shape))"
   ]
  },
  {
   "cell_type": "code",
   "execution_count": 49,
   "id": "61601c75-5aa4-4ea3-92e4-eae862ef1ba9",
   "metadata": {},
   "outputs": [
    {
     "name": "stdout",
     "output_type": "stream",
     "text": [
      "RUNNING THE L-BFGS-B CODE\n",
      "\n",
      "           * * *\n",
      "\n",
      "Machine precision = 2.220D-16\n",
      " N =         1000     M =           10\n",
      "\n",
      "At X0         0 variables are exactly at the bounds\n",
      "\n",
      "At iterate    0    f= -4.55529D+00    |proj g|=  7.69340D-04\n"
     ]
    },
    {
     "name": "stderr",
     "output_type": "stream",
     "text": [
      " This problem is unconstrained.\n"
     ]
    },
    {
     "name": "stdout",
     "output_type": "stream",
     "text": [
      "\n",
      "At iterate    1    f= -4.77084D+00    |proj g|=  1.19256D-03\n",
      "\n",
      "At iterate    2    f= -5.02267D+00    |proj g|=  1.52518D-03\n",
      "\n",
      "At iterate    3    f= -5.10985D+00    |proj g|=  1.60147D-03\n",
      "\n",
      "At iterate    4    f= -5.23839D+00    |proj g|=  1.90559D-03\n",
      "\n",
      "At iterate    5    f= -5.38272D+00    |proj g|=  2.19309D-03\n",
      "\n",
      "At iterate    6    f= -5.58440D+00    |proj g|=  2.68763D-03\n",
      "\n",
      "At iterate    7    f= -5.67463D+00    |proj g|=  2.93197D-03\n",
      "\n",
      "At iterate    8    f= -5.91201D+00    |proj g|=  3.64953D-03\n",
      "\n",
      "At iterate    9    f= -5.99192D+00    |proj g|=  3.85452D-03\n",
      "\n",
      "           * * *\n",
      "\n",
      "Tit   = total number of iterations\n",
      "Tnf   = total number of function evaluations\n",
      "Tnint = total number of segments explored during Cauchy searches\n",
      "Skip  = number of BFGS updates skipped\n",
      "Nact  = number of active bounds at final generalized Cauchy point\n",
      "Projg = norm of the final projected gradient\n",
      "F     = final function value\n",
      "\n",
      "           * * *\n",
      "\n",
      "   N    Tit     Tnf  Tnint  Skip  Nact     Projg        F\n",
      " 1000      9     15      1     0     0   3.855D-03  -5.992D+00\n",
      "  F =  -5.9919189104964650     \n",
      "\n",
      "STOP: TOTAL NO. of f AND g EVALUATIONS EXCEEDS LIMIT        \n"
     ]
    }
   ],
   "source": [
    "res = minimize(vanilla_mle_objective, D0, method='L-BFGS-B', options={'maxiter':100, 'disp':True})"
   ]
  },
  {
   "cell_type": "code",
   "execution_count": 50,
   "id": "16dd8d76-dc0f-4fc6-ab1d-4d9befe91fcb",
   "metadata": {},
   "outputs": [],
   "source": [
    "D_hat = res.x.reshape((num_perturb, num_markers))"
   ]
  },
  {
   "cell_type": "code",
   "execution_count": 51,
   "id": "29198730-747e-4378-86ee-a2f2b810b4f2",
   "metadata": {},
   "outputs": [
    {
     "data": {
      "image/png": "[encoded data removed]",
      "text/plain": [
       "<Figure size 432x288 with 1 Axes>"
      ]
     },
     "metadata": {
      "needs_background": "light"
     },
     "output_type": "display_data"
    }
   ],
   "source": [
    "plt.scatter(D.ravel(), D_hat.ravel())\n",
    "plt.xlabel('Simulated effect size');\n",
    "plt.ylabel('Estimated effect size from sorting screen');"
   ]
  },
  {
   "cell_type": "markdown",
   "id": "71c8eb05-8b30-4c13-b076-21447945509e",
   "metadata": {},
   "source": [
    "### Sort and sequence the \"pooled\" screen"
   ]
  },
  {
   "cell_type": "code",
   "execution_count": 52,
   "id": "f172fa6a-ffed-400a-aa3c-a2ffac00de62",
   "metadata": {},
   "outputs": [],
   "source": [
    "pooling_matrix = np.zeros((num_markers, num_measurements))\n",
    "for idx in range(num_measurements):\n",
    "    pooling_matrix[np.random.choice(num_markers, size=num_markers_per_pool, replace=False), idx] = 1\n",
    "    "
   ]
  },
  {
   "cell_type": "code",
   "execution_count": 53,
   "id": "6fe3bd86-a6f7-4543-b13e-27b370bc1eb2",
   "metadata": {},
   "outputs": [
    {
     "data": {
      "text/plain": [
       "array([[1., 0., 0., 1., 0.],\n",
       "       [0., 0., 0., 0., 1.],\n",
       "       [1., 0., 1., 1., 1.],\n",
       "       [0., 1., 0., 0., 0.],\n",
       "       [0., 1., 0., 0., 0.],\n",
       "       [0., 0., 0., 0., 1.],\n",
       "       [0., 0., 0., 0., 0.],\n",
       "       [0., 0., 1., 0., 0.],\n",
       "       [0., 1., 1., 0., 0.],\n",
       "       [1., 0., 0., 1., 0.]])"
      ]
     },
     "execution_count": 53,
     "metadata": {},
     "output_type": "execute_result"
    }
   ],
   "source": [
    "pooling_matrix"
   ]
  },
  {
   "cell_type": "code",
   "execution_count": 54,
   "id": "338207d0-c27c-4e95-8690-f002b999102a",
   "metadata": {},
   "outputs": [],
   "source": [
    "num_cells_per_measurement = int(num_cells/num_measurements)\n",
    "\n",
    "S_list = np.array_split(S, num_measurements)\n",
    "\n",
    "Zp = Z@pooling_matrix\n",
    "Zp_list = np.array_split(Zp, num_measurements)\n"
   ]
  },
  {
   "cell_type": "code",
   "execution_count": 55,
   "id": "53bbb01d-37ac-410d-b233-35de28a1bf60",
   "metadata": {},
   "outputs": [],
   "source": [
    "Y_pooled = np.zeros((num_measurements, num_bins, num_perturb))\n",
    "for i in range(num_measurements):\n",
    "    \n",
    "    for b in range(num_bins):\n",
    "            \n",
    "        cell_filter = (Zp_list[i][:, i] > pooled_gates_min[b])& (Zp_list[i][:, i] < pooled_gates_max[b])\n",
    "        \n",
    "        Y_pooled[i,b,:] = S_list[i][cell_filter].mean(axis=0)"
   ]
  },
  {
   "cell_type": "code",
   "execution_count": 56,
   "id": "96668034-473c-4e2e-bc31-190c91e2ce05",
   "metadata": {},
   "outputs": [],
   "source": [
    "bin_probs = [((Zp[:, [i]] < pooled_gates_max[np.newaxis, :]) & (Zp[:, [i]] > pooled_gates_min[np.newaxis, :])).mean(axis=0) for i in range(num_measurements)]\n"
   ]
  },
  {
   "cell_type": "code",
   "execution_count": 57,
   "id": "f04603fb-2583-4914-9a02-57ef02a15181",
   "metadata": {},
   "outputs": [],
   "source": [
    "def theoretical_sort_sequence_pooled(D_):\n",
    "    \n",
    "\n",
    "    Y_ = np.zeros((num_measurements, num_bins, num_perturb))\n",
    "    \n",
    "    pooled_means = D_@pooling_matrix\n",
    "    \n",
    "    for i in range(num_measurements):\n",
    "        \n",
    "        mean = pooled_means[:, [i]]\n",
    "        grv = stats.norm(loc=mean, scale=np.sqrt(num_markers_per_pool))\n",
    "        \n",
    "        Y_[i,:,:] = ( (grv.cdf(pooled_repeated_gates_max)-grv.cdf(pooled_repeated_gates_min)) * (1/num_perturb) / bin_probs[i]).T #(stdn.cdf(repeated_gates_max)-stdn.cdf(repeated_gates_min)) ).T\n",
    "        \n",
    "    return Y_"
   ]
  },
  {
   "cell_type": "code",
   "execution_count": 58,
   "id": "7472a179-d942-4b6d-b56a-78f6bfc05eb1",
   "metadata": {},
   "outputs": [],
   "source": [
    "alpha = 0.0001\n",
    "def pooled_mle_objective(D_):\n",
    "    \n",
    "    D_ = D_.reshape((num_perturb, num_markers))\n",
    "    \n",
    "    Y_ = theoretical_sort_sequence_pooled(D_)\n",
    "    \n",
    "    return (np.absolute(Y_pooled - Y_)).mean() + alpha*np.absolute(D_).mean()"
   ]
  },
  {
   "cell_type": "code",
   "execution_count": 59,
   "id": "6dafa899-ef14-4be4-8f6a-15efb4a565a6",
   "metadata": {},
   "outputs": [
    {
     "data": {
      "text/plain": [
       "0.0014014911040737062"
      ]
     },
     "execution_count": 59,
     "metadata": {},
     "output_type": "execute_result"
    }
   ],
   "source": [
    "pooled_mle_objective(D)"
   ]
  },
  {
   "cell_type": "code",
   "execution_count": 60,
   "id": "91ec830f-a578-407b-9a30-7039e3590054",
   "metadata": {},
   "outputs": [
    {
     "data": {
      "text/plain": [
       "0.010342872546018197"
      ]
     },
     "execution_count": 60,
     "metadata": {},
     "output_type": "execute_result"
    }
   ],
   "source": [
    "D0 = stats.norm.rvs(size=D.shape, scale=0.1)\n",
    "# D0[np.random.choice([True, False], p=[0.9, 0.1], size=D0.shape)] = 0\n",
    "\n",
    "pooled_mle_objective(D0)"
   ]
  },
  {
   "cell_type": "code",
   "execution_count": 61,
   "id": "86a61d2d-628d-47b0-a948-34444a5a830a",
   "metadata": {},
   "outputs": [
    {
     "name": "stdout",
     "output_type": "stream",
     "text": [
      "CPU times: user 24.2 ms, sys: 1.79 ms, total: 25.9 ms\n",
      "Wall time: 7.98 ms\n"
     ]
    },
    {
     "data": {
      "text/plain": [
       "0.010311633640973289"
      ]
     },
     "execution_count": 61,
     "metadata": {},
     "output_type": "execute_result"
    }
   ],
   "source": [
    "%%time\n",
    "pooled_mle_objective(np.zeros(D.shape))"
   ]
  },
  {
   "cell_type": "code",
   "execution_count": 62,
   "id": "1fe60939-0666-429b-a942-f7475366e5b7",
   "metadata": {},
   "outputs": [
    {
     "name": "stderr",
     "output_type": "stream",
     "text": [
      " This problem is unconstrained.\n"
     ]
    },
    {
     "name": "stdout",
     "output_type": "stream",
     "text": [
      "RUNNING THE L-BFGS-B CODE\n",
      "\n",
      "           * * *\n",
      "\n",
      "Machine precision = 2.220D-16\n",
      " N =         1000     M =           10\n",
      "\n",
      "At X0         0 variables are exactly at the bounds\n",
      "\n",
      "At iterate    0    f=  1.03429D-02    |proj g|=  3.24228D-05\n",
      "\n",
      "At iterate    1    f=  9.14247D-03    |proj g|=  3.54567D-05\n",
      "\n",
      "At iterate    2    f=  7.80608D-03    |proj g|=  3.52750D-05\n",
      "\n",
      "At iterate    3    f=  6.51162D-03    |proj g|=  3.18327D-05\n",
      "\n",
      "At iterate    4    f=  5.68288D-03    |proj g|=  3.66461D-05\n",
      "\n",
      "At iterate    5    f=  5.15465D-03    |proj g|=  2.70481D-05\n",
      "\n",
      "At iterate    6    f=  4.79020D-03    |proj g|=  3.59786D-05\n",
      "\n",
      "At iterate    7    f=  4.33551D-03    |proj g|=  3.52949D-05\n",
      "\n",
      "At iterate    8    f=  4.03699D-03    |proj g|=  3.94586D-05\n",
      "\n",
      "At iterate    9    f=  3.67300D-03    |proj g|=  3.00229D-05\n",
      "\n",
      "At iterate   10    f=  3.51647D-03    |proj g|=  2.62901D-05\n",
      "\n",
      "At iterate   11    f=  3.43227D-03    |proj g|=  2.25926D-05\n",
      "\n",
      "           * * *\n",
      "\n",
      "Tit   = total number of iterations\n",
      "Tnf   = total number of function evaluations\n",
      "Tnint = total number of segments explored during Cauchy searches\n",
      "Skip  = number of BFGS updates skipped\n",
      "Nact  = number of active bounds at final generalized Cauchy point\n",
      "Projg = norm of the final projected gradient\n",
      "F     = final function value\n",
      "\n",
      "           * * *\n",
      "\n",
      "   N    Tit     Tnf  Tnint  Skip  Nact     Projg        F\n",
      " 1000     11     15      1     0     0   2.259D-05   3.432D-03\n",
      "  F =   3.4322734941043169E-003\n",
      "\n",
      "STOP: TOTAL NO. of f AND g EVALUATIONS EXCEEDS LIMIT        \n"
     ]
    }
   ],
   "source": [
    "res = minimize(pooled_mle_objective, D0, method='L-BFGS-B', options={'maxiter':100, 'disp':True})"
   ]
  },
  {
   "cell_type": "code",
   "execution_count": 63,
   "id": "dd2e1e69-a81b-48d3-b87d-53f72ef599d4",
   "metadata": {},
   "outputs": [],
   "source": [
    "D_hat_pooled = res.x.reshape((num_perturb, num_markers))"
   ]
  },
  {
   "cell_type": "code",
   "execution_count": 67,
   "id": "b463ecf7-31cf-4667-8960-9a7c23eb63e0",
   "metadata": {},
   "outputs": [
    {
     "data": {
      "text/plain": [
       "(0.4992808133579285, 3.679204010419736e-64)"
      ]
     },
     "execution_count": 67,
     "metadata": {},
     "output_type": "execute_result"
    }
   ],
   "source": [
    "stats.pearsonr(D.ravel(), D_hat_pooled.ravel())"
   ]
  },
  {
   "cell_type": "code",
   "execution_count": 64,
   "id": "31cdf32f-78a0-47a4-be8c-d7954b0ec5dd",
   "metadata": {},
   "outputs": [
    {
     "data": {
      "image/png": "[encoded data removed]",
      "text/plain": [
       "<Figure size 432x288 with 1 Axes>"
      ]
     },
     "metadata": {
      "needs_background": "light"
     },
     "output_type": "display_data"
    }
   ],
   "source": [
    "plt.scatter()\n",
    "plt.xlabel('Simulated effect size');\n",
    "plt.ylabel('Estimated effect size from sorting screen');"
   ]
  },
  {
   "cell_type": "code",
   "execution_count": null,
   "id": "d4fc8209-98b1-437a-9a4a-806eff9f15e4",
   "metadata": {},
   "outputs": [],
   "source": []
  },
  {
   "cell_type": "code",
   "execution_count": null,
   "id": "3a390ca3-d834-4fe4-bd2f-5da287cd914a",
   "metadata": {},
   "outputs": [],
   "source": []
  },
  {
   "cell_type": "code",
   "execution_count": null,
   "id": "afbb2491-c1ac-445b-a10d-f349a5cfab3e",
   "metadata": {},
   "outputs": [],
   "source": []
  },
  {
   "cell_type": "code",
   "execution_count": null,
   "id": "8e280f19-a3d8-48ab-a619-16a7b0e68666",
   "metadata": {},
   "outputs": [],
   "source": []
  },
  {
   "cell_type": "code",
   "execution_count": null,
   "id": "bcc8eef4-dd79-40e4-b4f3-132f92bca013",
   "metadata": {},
   "outputs": [],
   "source": []
  },
  {
   "cell_type": "code",
   "execution_count": null,
   "id": "f56b2453-daf0-4c28-a0e1-f6da8b13a541",
   "metadata": {},
   "outputs": [],
   "source": []
  },
  {
   "cell_type": "code",
   "execution_count": null,
   "id": "5c2037be-aa4b-40b0-8cf3-d4b0655bc8d2",
   "metadata": {},
   "outputs": [],
   "source": []
  },
  {
   "cell_type": "code",
   "execution_count": null,
   "id": "c8ce23f4-ceb1-4feb-8e68-f47153a9664c",
   "metadata": {},
   "outputs": [],
   "source": []
  },
  {
   "cell_type": "code",
   "execution_count": null,
   "id": "1c3a342d-5466-4bc5-9065-d2b213dd5222",
   "metadata": {},
   "outputs": [],
   "source": []
  },
  {
   "cell_type": "markdown",
   "id": "6468f56b-3eda-47a7-97f2-998f4621d889",
   "metadata": {},
   "source": [
    "### Naive approch\n",
    "\n",
    "There's essentially no signal. The \"signal\" comes from the part of the vanilla screen that's just noise."
   ]
  },
  {
   "cell_type": "code",
   "execution_count": 157,
   "id": "192d97b4-168b-4ed9-9568-61957c996b14",
   "metadata": {},
   "outputs": [],
   "source": [
    "def pooled_screen_naive(Y, meta):\n",
    "\n",
    "    Y_flat = np.log(einops.rearrange(Y, 'i j k -> (i j) k')+1e-3)\n",
    "    X = pooling_matrix[:, meta['measurement'].astype(int)].T\n",
    "    X = X * meta[['level']].values\n",
    "    sns.heatmap(X)\n",
    "    model = lm.Lasso(alpha=0.05, fit_intercept=False)\n",
    "    model.fit(X,Y_flat)\n",
    "    return model.coef_"
   ]
  },
  {
   "cell_type": "code",
   "execution_count": 159,
   "id": "1723d0cd-75b5-407e-bf81-602aa137b978",
   "metadata": {},
   "outputs": [
    {
     "data": {
      "text/plain": [
       "Text(0, 0.5, 'sgRNA LFC from pooled experiment')"
      ]
     },
     "execution_count": 160,
     "metadata": {},
     "output_type": "execute_result"
    },
    {
     "data": {
      "image/png": "[encoded data removed]",
      "text/plain": [
       "<Figure size 720x288 with 2 Axes>"
      ]
     },
     "metadata": {
      "needs_background": "light"
     },
     "output_type": "display_data"
    }
   ],
   "source": [
    "plt.figure(figsize=(10,4))\n",
    "plt.subplots_adjust(wspace=0.3)\n",
    "plt.subplot(1, 2, 1)\n",
    "plt.scatter(D.T.ravel(), D_hat_pooled.ravel())\n",
    "plt.xlabel('Actual effect of guide on expression')\n",
    "plt.ylabel('sgRNA LFC from pooled experiment')\n",
    "\n",
    "plt.subplot(1, 2, 2)\n",
    "plt.scatter(D_hat_vanilla.ravel(),D_hat_pooled.ravel())\n",
    "plt.xlabel('sgRNA LFC from vanilla experiment')\n",
    "plt.ylabel('sgRNA LFC from pooled experiment')\n"
   ]
  },
  {
   "cell_type": "markdown",
   "id": "be96bcc8-7a45-4423-8b74-41871f12611b",
   "metadata": {},
   "source": [
    "### Data augmentation approach\n",
    "\n",
    "Pretend true expression is the bins. \"Generate\" data from the pseudobulks"
   ]
  },
  {
   "cell_type": "code",
   "execution_count": null,
   "id": "01c052a6-76bd-4db1-b6ec-9765489e8e5d",
   "metadata": {},
   "outputs": [],
   "source": [
    "generated_data = []\n",
    "\n",
    "for i in range(num_measurements):\n",
    "    \n",
    "    for b in range(num_bins):\n",
    "        \n",
    "        for p in range(num_perturb):\n",
    "            \n",
    "            "
   ]
  },
  {
   "cell_type": "markdown",
   "id": "12e90704-19e5-45b3-8473-555424e0d5d7",
   "metadata": {},
   "source": [
    "### Analyize vanilla screen"
   ]
  },
  {
   "cell_type": "code",
   "execution_count": null,
   "id": "f9ae3ffd-f456-4691-a68d-4ca1df06218d",
   "metadata": {},
   "outputs": [],
   "source": [
    "Y_vanilla_flat = einops.rearrange(Y_vanilla, 'i j k -> (i j) k')\n",
    "X_vanilla = "
   ]
  },
  {
   "cell_type": "code",
   "execution_count": 157,
   "id": "037cd0cf-9d0d-4c78-97d5-970b31ecf41d",
   "metadata": {},
   "outputs": [
    {
     "data": {
      "text/plain": [
       "(15, 2, 100)"
      ]
     },
     "execution_count": 157,
     "metadata": {},
     "output_type": "execute_result"
    }
   ],
   "source": [
    "Y_vanilla.shape"
   ]
  },
  {
   "cell_type": "code",
   "execution_count": 158,
   "id": "bcd3a0a7-0455-4d09-aee5-83a238f519b0",
   "metadata": {},
   "outputs": [
    {
     "data": {
      "text/plain": [
       "(5, 2, 100)"
      ]
     },
     "execution_count": 158,
     "metadata": {},
     "output_type": "execute_result"
    }
   ],
   "source": [
    "Y_pooled.shape"
   ]
  },
  {
   "cell_type": "code",
   "execution_count": 164,
   "id": "009e92f4-fc75-4fd5-9e2e-5f30e874a107",
   "metadata": {},
   "outputs": [
    {
     "data": {
      "text/plain": [
       "array([[0.00234742, 0.00234742, 0.00704225, ..., 0.00704225, 0.00469484,\n",
       "        0.01877934],\n",
       "       [0.00422833, 0.00634249, 0.00211416, ..., 0.01691332, 0.01057082,\n",
       "        0.01268499],\n",
       "       [0.0022779 , 0.00455581, 0.02050114, ..., 0.01138952, 0.01594533,\n",
       "        0.00455581],\n",
       "       ...,\n",
       "       [0.        , 0.02455357, 0.01785714, ..., 0.00223214, 0.00892857,\n",
       "        0.00223214],\n",
       "       [0.02136752, 0.01282051, 0.        , ..., 0.01709402, 0.00854701,\n",
       "        0.01709402],\n",
       "       [0.        , 0.        , 0.02137767, ..., 0.0023753 , 0.00475059,\n",
       "        0.00950119]])"
      ]
     },
     "execution_count": 164,
     "metadata": {},
     "output_type": "execute_result"
    }
   ],
   "source": []
  },
  {
   "cell_type": "code",
   "execution_count": null,
   "id": "e466637a-5a19-4202-8535-0ac6f3aed981",
   "metadata": {},
   "outputs": [],
   "source": []
  }
 ],
 "metadata": {
  "kernelspec": {
   "display_name": "Python 3 (ipykernel)",
   "language": "python",
   "name": "python3"
  },
  "language_info": {
   "codemirror_mode": {
    "name": "ipython",
    "version": 3
   },
   "file_extension": ".py",
   "mimetype": "text/x-python",
   "name": "python",
   "nbconvert_exporter": "python",
   "pygments_lexer": "ipython3",
   "version": "3.7.11"
  }
 },
 "nbformat": 4,
 "nbformat_minor": 5
}
