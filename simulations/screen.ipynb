{
 "cells": [
  {
   "cell_type": "markdown",
   "id": "6f584245-11db-4605-83c9-06f6906c551c",
   "metadata": {},
   "source": [
    "# Compressed screen simulation"
   ]
  },
  {
   "cell_type": "code",
   "execution_count": 273,
   "id": "be7ed2d1-198a-43d7-8897-f08d11306a45",
   "metadata": {},
   "outputs": [],
   "source": [
    "import numpy as np\n",
    "from scipy.optimize import minimize, nnls, LinearConstraint, lsq_linear\n",
    "import scipy.stats as stats\n",
    "import matplotlib.pyplot as plt\n",
    "import seaborn as sns\n",
    "import einops\n",
    "\n",
    "import scipy.sparse as sparse"
   ]
  },
  {
   "cell_type": "markdown",
   "id": "9f0209dc-e0cd-447f-a541-70058d4a1ead",
   "metadata": {},
   "source": [
    "### Define the experiment parameters"
   ]
  },
  {
   "cell_type": "code",
   "execution_count": 274,
   "id": "c52adf11-62e5-455a-9427-a8d78a7c7cdd",
   "metadata": {},
   "outputs": [],
   "source": [
    "num_markers = 10\n",
    "num_measurements = 4\n",
    "num_perturb = 10\n",
    "num_bins = 3\n",
    "num_cells = int(1e4)\n",
    "seq_depth = 100000\n",
    "\n",
    "gates_min = np.array([-np.inf, -0.6, 0.6])\n",
    "gates_max = np.array([-0.6, 0.6, np.inf])\n",
    "bin_code = np.array([-1,0,1])"
   ]
  },
  {
   "cell_type": "markdown",
   "id": "05b43cd4-3b85-49a1-a302-c9a5ef89dbcc",
   "metadata": {},
   "source": [
    "### Define the ground truth variables\n",
    "\n",
    "- `D`: True effect size of each guide on expression, `num_perturb x num_markers`\n",
    "- `S`: Guide assignment for single cells, `num_cells x num_perturb`"
   ]
  },
  {
   "cell_type": "code",
   "execution_count": 275,
   "id": "f64e2c1b-700f-4b09-9e63-cc32f0fad18f",
   "metadata": {},
   "outputs": [
    {
     "name": "stdout",
     "output_type": "stream",
     "text": [
      "Sanity check, guide assignment per cell [1. 1. 1. ... 1. 1. 1.]\n"
     ]
    }
   ],
   "source": [
    "D = stats.norm.rvs(size=(num_perturb, num_markers))\n",
    "D[np.absolute(D) < 1.5] = 0\n",
    "S = np.zeros((num_cells, num_perturb))\n",
    "for row in range(num_cells):\n",
    "    S[row, np.random.randint(num_perturb)]=1\n",
    "print('Sanity check, guide assignment per cell', S.sum(axis=1))"
   ]
  },
  {
   "cell_type": "markdown",
   "id": "e0f8a572-32d3-4c0e-a291-90fb8461670a",
   "metadata": {},
   "source": [
    "### Generate single cells\n",
    "\n",
    "Single cell expression"
   ]
  },
  {
   "cell_type": "code",
   "execution_count": 276,
   "id": "30085886-9314-4038-8fa1-11a4dac2d183",
   "metadata": {},
   "outputs": [],
   "source": [
    "Z = stats.norm.rvs(S@D)"
   ]
  },
  {
   "cell_type": "code",
   "execution_count": 277,
   "id": "cffe28c8-5caf-4b47-9e6a-8d239a52e256",
   "metadata": {},
   "outputs": [
    {
     "data": {
      "text/plain": [
       "<AxesSubplot:ylabel='Density'>"
      ]
     },
     "execution_count": 277,
     "metadata": {},
     "output_type": "execute_result"
    },
    {
     "data": {
      "image/png": "[encoded data removed]",
      "text/plain": [
       "<Figure size 432x288 with 1 Axes>"
      ]
     },
     "metadata": {
      "needs_background": "light"
     },
     "output_type": "display_data"
    }
   ],
   "source": [
    "sns.kdeplot(Z[:, 0])"
   ]
  },
  {
   "cell_type": "markdown",
   "id": "67923787-3dea-471a-8b58-e40214ffa3c4",
   "metadata": {},
   "source": [
    "### Sort and sequence for \"vanilla\" screen"
   ]
  },
  {
   "cell_type": "code",
   "execution_count": 278,
   "id": "81a77e77-b6d2-4fde-ae19-2992678a7bb5",
   "metadata": {},
   "outputs": [],
   "source": [
    "num_cells_per_measurement = int(num_cells/num_markers)\n",
    "\n",
    "S_list = np.array_split(S, num_markers)\n",
    "Z_list = np.array_split(Z, num_markers)"
   ]
  },
  {
   "cell_type": "code",
   "execution_count": 279,
   "id": "67f400ec-a335-43b7-9025-62f46bb301de",
   "metadata": {},
   "outputs": [],
   "source": [
    "Y_vanilla = np.zeros((num_markers, num_bins, num_perturb))\n",
    "X_vanilla = np.zeros((num_markers, num_bins))\n",
    "for i in range(num_markers):\n",
    "    \n",
    "    for b in range(num_bins):\n",
    "        \n",
    "        X_vanilla[i, b] = bin_code[b]\n",
    "        for g in range(num_perturb):\n",
    "            \n",
    "            guide_count = 0\n",
    "            cell_count = 0\n",
    "            \n",
    "            for cell in range(num_cells_per_measurement):\n",
    "                \n",
    "                if Z_list[i][cell, i] > gates_min[b] and Z_list[i][cell, i] < gates_max[b]:\n",
    "                    \n",
    "                    guide_count += S_list[i][cell, g]\n",
    "                    cell_count += 1\n",
    "            Y_vanilla[i, b, g] = guide_count/cell_count\n",
    "                    "
   ]
  },
  {
   "cell_type": "markdown",
   "id": "adabca2b-5d25-4eef-b02e-6e3f3829a72a",
   "metadata": {},
   "source": [
    "### Solve vanilla case"
   ]
  },
  {
   "cell_type": "code",
   "execution_count": 280,
   "id": "7130efc6-2a1a-4d43-9ba3-a590d8ab7c06",
   "metadata": {},
   "outputs": [],
   "source": [
    "def vanilla_fn(beta):\n",
    "    \n",
    "    beta = beta.reshape(num_markers, num_perturb)\n",
    "    loss = 0\n",
    "    for i in range(num_markers):\n",
    "        for g in range(num_perturb):\n",
    "            \n",
    "            y = np.log(Y_vanilla[i, :, g]+1e-3)\n",
    "            x = bin_code\n",
    "            loss += ((y-beta[i, g]*x)**2).sum()\n",
    "    return loss"
   ]
  },
  {
   "cell_type": "code",
   "execution_count": 281,
   "id": "0a88dbde-abe5-45e1-bcc4-b6581ff3844e",
   "metadata": {},
   "outputs": [],
   "source": [
    "res = minimize(fun=vanilla_fn, x0=stats.norm.rvs(size=num_markers*num_perturb))\n",
    "D_hat_vanilla = res.x.reshape(num_markers, num_perturb)"
   ]
  },
  {
   "cell_type": "code",
   "execution_count": 282,
   "id": "c424da5a-552e-45ea-a2c6-e63113893fcf",
   "metadata": {},
   "outputs": [
    {
     "data": {
      "text/plain": [
       "Text(0.5, 0, 'Actual effect of guide on expression')"
      ]
     },
     "execution_count": 282,
     "metadata": {},
     "output_type": "execute_result"
    },
    {
     "data": {
      "image/png": "[encoded data removed]",
      "text/plain": [
       "<Figure size 432x288 with 1 Axes>"
      ]
     },
     "metadata": {
      "needs_background": "light"
     },
     "output_type": "display_data"
    }
   ],
   "source": [
    "plt.scatter(D.T.ravel(),D_hat_vanilla.ravel())\n",
    "plt.ylabel('sgRNA LFC from vanilla experiment')\n",
    "plt.xlabel('Actual effect of guide on expression')\n"
   ]
  },
  {
   "cell_type": "markdown",
   "id": "71c8eb05-8b30-4c13-b076-21447945509e",
   "metadata": {},
   "source": [
    "### Sort and sequence the \"pooled\" screen"
   ]
  },
  {
   "cell_type": "code",
   "execution_count": 289,
   "id": "f172fa6a-ffed-400a-aa3c-a2ffac00de62",
   "metadata": {},
   "outputs": [],
   "source": [
    "num_markers_per_pool = 7\n",
    "pooling_matrix = np.zeros((num_markers, num_measurements))\n",
    "for idx in range(num_measurements):\n",
    "    pooling_matrix[np.random.choice(num_markers, size=num_markers_per_pool, replace=False), idx] = 1\n",
    "    "
   ]
  },
  {
   "cell_type": "code",
   "execution_count": 290,
   "id": "338207d0-c27c-4e95-8690-f002b999102a",
   "metadata": {},
   "outputs": [
    {
     "data": {
      "text/plain": [
       "<AxesSubplot:ylabel='Density'>"
      ]
     },
     "execution_count": 290,
     "metadata": {},
     "output_type": "execute_result"
    },
    {
     "data": {
      "image/png": "[encoded data removed]",
      "text/plain": [
       "<Figure size 432x288 with 1 Axes>"
      ]
     },
     "metadata": {
      "needs_background": "light"
     },
     "output_type": "display_data"
    }
   ],
   "source": [
    "num_cells_per_measurement = int(num_cells/num_measurements)\n",
    "\n",
    "S_list = np.array_split(S, num_measurements)\n",
    "\n",
    "Zp = Z@pooling_matrix/np.sqrt(num_markers_per_pool)\n",
    "Zp_list = np.array_split(Zp, num_measurements)\n",
    "sns.kdeplot(Zp[:, 0])"
   ]
  },
  {
   "cell_type": "code",
   "execution_count": 291,
   "id": "53bbb01d-37ac-410d-b233-35de28a1bf60",
   "metadata": {},
   "outputs": [],
   "source": [
    "Y_pooled = np.zeros((num_measurements, num_bins, num_perturb))\n",
    "for i in range(num_measurements):\n",
    "    \n",
    "    for b in range(num_bins):\n",
    "        \n",
    "        for g in range(num_perturb):\n",
    "            \n",
    "            guide_count = 0\n",
    "            cell_count = 0\n",
    "            \n",
    "            for cell in range(num_cells_per_measurement):\n",
    "                \n",
    "                if Zp_list[i][cell, i] > gates_min[b] and Zp_list[i][cell, i] < gates_max[b]:\n",
    "                    \n",
    "                    guide_count += S_list[i][cell, g]\n",
    "                    cell_count += 1\n",
    "            Y_pooled[i, b, g] = guide_count/cell_count\n",
    "                    "
   ]
  },
  {
   "cell_type": "markdown",
   "id": "6468f56b-3eda-47a7-97f2-998f4621d889",
   "metadata": {},
   "source": [
    "### Solve pooled screen"
   ]
  },
  {
   "cell_type": "code",
   "execution_count": 292,
   "id": "192d97b4-168b-4ed9-9568-61957c996b14",
   "metadata": {},
   "outputs": [],
   "source": [
    "def pooled_fn(beta):\n",
    "    \n",
    "    beta = beta.reshape(num_markers, num_perturb)\n",
    "    beta_pool = pooling_matrix.T.dot(beta)\n",
    "    \n",
    "    loss = 0\n",
    "    \n",
    "    for i in range(num_measurements):\n",
    "        for g in range(num_perturb):\n",
    "            \n",
    "            y = np.log(Y_pooled[i, :, g]+1e-3)\n",
    "            x = bin_code\n",
    "            loss += ((y-beta_pool[i, g]*x)**2).sum()/num_bins\n",
    "    penalty = np.linalg.norm(beta, ord=1)\n",
    "    return loss + alpha * penalty"
   ]
  },
  {
   "cell_type": "code",
   "execution_count": 293,
   "id": "34ae849c-714d-43b8-84e5-0fd5deba489d",
   "metadata": {},
   "outputs": [],
   "source": [
    "alpha=10\n",
    "res = minimize(fun=pooled_fn, x0=stats.norm.rvs(size=num_markers*num_perturb))\n",
    "D_hat_pooled = res.x.reshape(num_markers, num_perturb)"
   ]
  },
  {
   "cell_type": "code",
   "execution_count": 294,
   "id": "1723d0cd-75b5-407e-bf81-602aa137b978",
   "metadata": {},
   "outputs": [
    {
     "data": {
      "text/plain": [
       "Text(0, 0.5, 'sgRNA LFC from pooled experiment')"
      ]
     },
     "execution_count": 294,
     "metadata": {},
     "output_type": "execute_result"
    },
    {
     "data": {
      "image/png": "[encoded data removed]",
      "text/plain": [
       "<Figure size 720x288 with 2 Axes>"
      ]
     },
     "metadata": {
      "needs_background": "light"
     },
     "output_type": "display_data"
    }
   ],
   "source": [
    "plt.figure(figsize=(10,4))\n",
    "plt.subplots_adjust(wspace=0.3)\n",
    "plt.subplot(1, 2, 1)\n",
    "plt.scatter(D.T.ravel(), D_hat_pooled.ravel())\n",
    "plt.xlabel('Actual effect of guide on expression')\n",
    "plt.subplot(1, 2, 2)\n",
    "plt.scatter(D_hat_vanilla.ravel(),D_hat_pooled.ravel())\n",
    "plt.xlabel('sgRNA LFC from vanilla experiment')\n",
    "plt.ylabel('sgRNA LFC from pooled experiment')\n"
   ]
  },
  {
   "cell_type": "markdown",
   "id": "12e90704-19e5-45b3-8473-555424e0d5d7",
   "metadata": {},
   "source": [
    "### Analyize vanilla screen"
   ]
  },
  {
   "cell_type": "code",
   "execution_count": null,
   "id": "f9ae3ffd-f456-4691-a68d-4ca1df06218d",
   "metadata": {},
   "outputs": [],
   "source": [
    "Y_vanilla_flat = einops.rearrange(Y_vanilla, 'i j k -> (i j) k')\n",
    "X_vanilla = "
   ]
  },
  {
   "cell_type": "code",
   "execution_count": 157,
   "id": "037cd0cf-9d0d-4c78-97d5-970b31ecf41d",
   "metadata": {},
   "outputs": [
    {
     "data": {
      "text/plain": [
       "(15, 2, 100)"
      ]
     },
     "execution_count": 157,
     "metadata": {},
     "output_type": "execute_result"
    }
   ],
   "source": [
    "Y_vanilla.shape"
   ]
  },
  {
   "cell_type": "code",
   "execution_count": 158,
   "id": "bcd3a0a7-0455-4d09-aee5-83a238f519b0",
   "metadata": {},
   "outputs": [
    {
     "data": {
      "text/plain": [
       "(5, 2, 100)"
      ]
     },
     "execution_count": 158,
     "metadata": {},
     "output_type": "execute_result"
    }
   ],
   "source": [
    "Y_pooled.shape"
   ]
  },
  {
   "cell_type": "code",
   "execution_count": 164,
   "id": "009e92f4-fc75-4fd5-9e2e-5f30e874a107",
   "metadata": {},
   "outputs": [
    {
     "data": {
      "text/plain": [
       "array([[0.00234742, 0.00234742, 0.00704225, ..., 0.00704225, 0.00469484,\n",
       "        0.01877934],\n",
       "       [0.00422833, 0.00634249, 0.00211416, ..., 0.01691332, 0.01057082,\n",
       "        0.01268499],\n",
       "       [0.0022779 , 0.00455581, 0.02050114, ..., 0.01138952, 0.01594533,\n",
       "        0.00455581],\n",
       "       ...,\n",
       "       [0.        , 0.02455357, 0.01785714, ..., 0.00223214, 0.00892857,\n",
       "        0.00223214],\n",
       "       [0.02136752, 0.01282051, 0.        , ..., 0.01709402, 0.00854701,\n",
       "        0.01709402],\n",
       "       [0.        , 0.        , 0.02137767, ..., 0.0023753 , 0.00475059,\n",
       "        0.00950119]])"
      ]
     },
     "execution_count": 164,
     "metadata": {},
     "output_type": "execute_result"
    }
   ],
   "source": []
  },
  {
   "cell_type": "code",
   "execution_count": null,
   "id": "e466637a-5a19-4202-8535-0ac6f3aed981",
   "metadata": {},
   "outputs": [],
   "source": []
  }
 ],
 "metadata": {
  "kernelspec": {
   "display_name": "Python 3 (ipykernel)",
   "language": "python",
   "name": "python3"
  },
  "language_info": {
   "codemirror_mode": {
    "name": "ipython",
    "version": 3
   },
   "file_extension": ".py",
   "mimetype": "text/x-python",
   "name": "python",
   "nbconvert_exporter": "python",
   "pygments_lexer": "ipython3",
   "version": "3.7.11"
  }
 },
 "nbformat": 4,
 "nbformat_minor": 5
}
