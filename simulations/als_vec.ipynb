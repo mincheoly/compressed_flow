{
 "cells": [
  {
   "cell_type": "markdown",
   "id": "quick-fairy",
   "metadata": {},
   "source": [
    "# Simulation for augmented flow cytometry via matrix sensing\n",
    "\n",
    "We simulate a problem where we would like to perform flow cytometry with 64 markers but actually measure abundances for 4x that number - 256 proteins.\n",
    "\n",
    "Instead of measuring the actual proteins, we measure random linear combinations of the proteins, each weighted equally (how will titration work?). In this notebook, we demonstrate that we can reconstruct the original protein expression matrix from measurements of linear combinations of proteins. \n",
    "\n",
    "Here, we have `num_cells`, `num_markers`, `pack_ratio`(how \"compressed\" is our dataset) to simulated dataset. The `rank` determines the rank of the true protein expression matrix (typically unknown). "
   ]
  },
  {
   "cell_type": "code",
   "execution_count": 2,
   "id": "controlling-solomon",
   "metadata": {},
   "outputs": [],
   "source": [
    "import numpy as np\n",
    "from scipy.optimize import minimize, nnls, LinearConstraint, lsq_linear\n",
    "import scipy.stats as stats\n",
    "import matplotlib.pyplot as plt\n",
    "import seaborn as sns\n",
    "\n",
    "import scipy.sparse as sparse"
   ]
  },
  {
   "cell_type": "code",
   "execution_count": 3,
   "id": "thirty-backing",
   "metadata": {},
   "outputs": [],
   "source": [
    "num_cells = 10000\n",
    "num_markers = 3\n",
    "pack_ratio = 0.25\n",
    "rank = 5\n",
    "num_genes = int(num_markers/pack_ratio)"
   ]
  },
  {
   "cell_type": "code",
   "execution_count": 4,
   "id": "automotive-rebecca",
   "metadata": {},
   "outputs": [
    {
     "name": "stdout",
     "output_type": "stream",
     "text": [
      "Size of the true protein matrix M is (10000, 12)\n"
     ]
    }
   ],
   "source": [
    "\n",
    "U_real = np.random.randn(num_cells, rank)*2+10\n",
    "V_real = np.random.randn(num_genes, rank)*3+15\n",
    "M = U_real@V_real.T\n",
    "print('Size of the true protein matrix M is', M.shape)"
   ]
  },
  {
   "cell_type": "code",
   "execution_count": 5,
   "id": "divided-basketball",
   "metadata": {},
   "outputs": [],
   "source": [
    "P = np.random.choice([0, 1], size=(num_genes, num_markers), p=[1./4, 3./4])\n",
    "\n",
    "P = P/P.sum(axis=1).reshape(-1, 1)"
   ]
  },
  {
   "cell_type": "code",
   "execution_count": 6,
   "id": "matched-behavior",
   "metadata": {},
   "outputs": [
    {
     "data": {
      "text/plain": [
       "array([[0.        , 0.5       , 0.5       ],\n",
       "       [0.5       , 0.5       , 0.        ],\n",
       "       [0.5       , 0.        , 0.5       ],\n",
       "       [1.        , 0.        , 0.        ],\n",
       "       [0.        , 0.        , 1.        ],\n",
       "       [0.33333333, 0.33333333, 0.33333333],\n",
       "       [0.        , 0.5       , 0.5       ],\n",
       "       [0.33333333, 0.33333333, 0.33333333],\n",
       "       [0.33333333, 0.33333333, 0.33333333],\n",
       "       [0.5       , 0.5       , 0.        ],\n",
       "       [0.5       , 0.5       , 0.        ],\n",
       "       [0.33333333, 0.33333333, 0.33333333]])"
      ]
     },
     "execution_count": 6,
     "metadata": {},
     "output_type": "execute_result"
    }
   ],
   "source": [
    "P"
   ]
  },
  {
   "cell_type": "code",
   "execution_count": 48,
   "id": "structural-telescope",
   "metadata": {},
   "outputs": [
    {
     "name": "stdout",
     "output_type": "stream",
     "text": [
      "Size of the measured protein matrix D (measuring the linear combinations) is (10000, 3)\n"
     ]
    }
   ],
   "source": [
    "D = M@P\n",
    "D_vec = D.reshape(-1)\n",
    "print('Size of the measured protein matrix D (measuring the linear combinations) is', D.shape)"
   ]
  },
  {
   "cell_type": "code",
   "execution_count": 49,
   "id": "particular-amazon",
   "metadata": {},
   "outputs": [
    {
     "name": "stdout",
     "output_type": "stream",
     "text": [
      "90911488.92257829 90911488.92257829\n"
     ]
    }
   ],
   "source": [
    "print(D.sum(), M.sum())"
   ]
  },
  {
   "cell_type": "markdown",
   "id": "saved-workplace",
   "metadata": {},
   "source": [
    "### Alternating least squares\n",
    "\n",
    "We factorize $M$ into $M = LR$, and this ensures that our final matrix is of rank `rank`. In this initial experiment, we cheat a bit and give it the known rank. However, missing the true rank shouldn't affect the final output all that much.\n",
    "\n",
    "1. Initialize the factorized matrices to random positive numbers. \n",
    "2. Solve for $L$. This part is very easy, since each row of $L$ only depends on a single cell measurement (one row in $D$). \n",
    "3. Solve for $R$. This part is actually very difficult to solve exactly (with my talents). For now, I put in a very hacky substitute for actually performing NNLS.\n",
    "\n",
    "The alternative to ALS is to minimize the rank of the solution matrix while holding the error as a constraint. This problem is NP-hard, but minimizing the nuclear norm (convex envelope of the rank function) is convex - however, this approach is intractable even beyond a few hundred cells."
   ]
  },
  {
   "cell_type": "code",
   "execution_count": 50,
   "id": "optional-inspiration",
   "metadata": {},
   "outputs": [],
   "source": [
    "L_current = np.random.randn(num_cells,rank)+10\n",
    "R_current = np.random.randn(rank,num_genes)+10"
   ]
  },
  {
   "cell_type": "code",
   "execution_count": 51,
   "id": "impaired-bernard",
   "metadata": {},
   "outputs": [],
   "source": [
    "def solve_L(R_current):\n",
    "    \n",
    "    A = P.T@R_current.T\n",
    "    return np.apply_along_axis(lambda row: nnls(A, row)[0], axis=1, arr=D)"
   ]
  },
  {
   "cell_type": "code",
   "execution_count": 52,
   "id": "appreciated-mouth",
   "metadata": {
    "tags": []
   },
   "outputs": [],
   "source": [
    "P_pinv = np.linalg.pinv(P)\n",
    "\n",
    "def solve_R(L_current):\n",
    "\n",
    "    temp = np.linalg.pinv(L_current)@D@P_pinv\n",
    "    temp[temp < 0] = np.random.random()\n",
    "    return temp"
   ]
  },
  {
   "cell_type": "code",
   "execution_count": 53,
   "id": "approximate-birthday",
   "metadata": {},
   "outputs": [
    {
     "name": "stdout",
     "output_type": "stream",
     "text": [
      "Iter 0\n",
      "Iter 2\n",
      "Iter 4\n",
      "Iter 6\n",
      "Iter 8\n",
      "Iter 10\n",
      "Iter 12\n",
      "Iter 14\n",
      "CPU times: user 2.54 s, sys: 230 ms, total: 2.77 s\n",
      "Wall time: 1.93 s\n"
     ]
    }
   ],
   "source": [
    "%%time\n",
    "# u_error = []\n",
    "# v_error = []\n",
    "D_vec = D.reshape(-1)\n",
    "for i in range(15):\n",
    "    if i % 2 == 0:\n",
    "        print('Iter', i)\n",
    "    L_current = solve_L(R_current)\n",
    "    R_current = solve_R(L_current)\n",
    "        "
   ]
  },
  {
   "cell_type": "code",
   "execution_count": 54,
   "id": "voluntary-diabetes",
   "metadata": {},
   "outputs": [],
   "source": [
    "M_fitted = L_current@R_current"
   ]
  },
  {
   "cell_type": "markdown",
   "id": "worthy-hardwood",
   "metadata": {},
   "source": [
    "### How well do we do?\n",
    "\n",
    "Reconstruction is possible up to an affine transformation - we can achieve near-perfect reconstruction standardized, relative protein expression, but not the actual measured values. I'm not sure if there's a way to fix this post-hoc. Correlation between simulated and reconstructed is always above >0.97 in this 0 measurement noise setting.\n"
   ]
  },
  {
   "cell_type": "code",
   "execution_count": 55,
   "id": "warming-glucose",
   "metadata": {},
   "outputs": [],
   "source": [
    "corrs = []\n",
    "inters = []\n",
    "coefs = []\n",
    "for col in range(M.shape[1]):\n",
    "    a = M[:, col]\n",
    "    b = M_fitted[:, col]\n",
    "    s, inter, r, _, _ = stats.linregress(a,b)\n",
    "    inters.append(inter)\n",
    "    coefs.append(s)\n",
    "    corrs.append(r)"
   ]
  },
  {
   "cell_type": "code",
   "execution_count": 56,
   "id": "metallic-straight",
   "metadata": {},
   "outputs": [
    {
     "data": {
      "image/png": "[encoded data removed]",
      "text/plain": [
       "<Figure size 432x288 with 1 Axes>"
      ]
     },
     "metadata": {
      "needs_background": "light"
     },
     "output_type": "display_data"
    }
   ],
   "source": [
    "plt.scatter(a,b, s=20);\n",
    "plt.title('Example expression recovery for a single protein')\n",
    "plt.xlabel('True (simulated) protein expression'); plt.ylabel('Estimated protein expression');"
   ]
  },
  {
   "cell_type": "code",
   "execution_count": 57,
   "id": "instant-geography",
   "metadata": {},
   "outputs": [
    {
     "data": {
      "text/plain": [
       "Text(0.5, 1.0, 'Correlations between actual and reconstructed protein expression')"
      ]
     },
     "execution_count": 57,
     "metadata": {},
     "output_type": "execute_result"
    },
    {
     "data": {
      "image/png": "[encoded data removed]",
      "text/plain": [
       "<Figure size 360x360 with 1 Axes>"
      ]
     },
     "metadata": {
      "needs_background": "light"
     },
     "output_type": "display_data"
    }
   ],
   "source": [
    "sns.displot(corrs)\n",
    "plt.title('Correlations between actual and reconstructed protein expression')"
   ]
  },
  {
   "cell_type": "code",
   "execution_count": null,
   "id": "scheduled-motivation",
   "metadata": {},
   "outputs": [],
   "source": []
  }
 ],
 "metadata": {
  "kernelspec": {
   "display_name": "Python 3",
   "language": "python",
   "name": "python3"
  },
  "language_info": {
   "codemirror_mode": {
    "name": "ipython",
    "version": 3
   },
   "file_extension": ".py",
   "mimetype": "text/x-python",
   "name": "python",
   "nbconvert_exporter": "python",
   "pygments_lexer": "ipython3",
   "version": "3.8.8"
  }
 },
 "nbformat": 4,
 "nbformat_minor": 5
}
