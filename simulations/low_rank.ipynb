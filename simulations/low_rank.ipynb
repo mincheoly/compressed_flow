{
 "cells": [
  {
   "cell_type": "markdown",
   "id": "direct-while",
   "metadata": {},
   "source": [
    "### Low rank approximations simulation"
   ]
  },
  {
   "cell_type": "code",
   "execution_count": 33,
   "id": "foreign-interface",
   "metadata": {},
   "outputs": [],
   "source": [
    "import numpy as np\n",
    "from scipy.optimize import minimize, nnls, LinearConstraint\n",
    "import scipy.stats as stats\n",
    "import matplotlib.pyplot as plt\n",
    "import seaborn as sns"
   ]
  },
  {
   "cell_type": "code",
   "execution_count": 34,
   "id": "prospective-receipt",
   "metadata": {},
   "outputs": [],
   "source": [
    "num_cells = 500\n",
    "num_genes = 100\n",
    "pack_ratio = 0.25\n",
    "rank = 10\n",
    "num_markers = int(pack_ratio*num_genes)"
   ]
  },
  {
   "cell_type": "code",
   "execution_count": 35,
   "id": "fabulous-lightweight",
   "metadata": {},
   "outputs": [
    {
     "name": "stdout",
     "output_type": "stream",
     "text": [
      "M (500, 100)\n"
     ]
    }
   ],
   "source": [
    "\n",
    "U_real = np.random.randn(num_cells, rank)*2+10\n",
    "V_real = np.random.randn(num_genes, rank)*3+15\n",
    "M = U_real@V_real.T\n",
    "print('M', M.shape)"
   ]
  },
  {
   "cell_type": "code",
   "execution_count": 36,
   "id": "theoretical-arbitration",
   "metadata": {},
   "outputs": [],
   "source": [
    "P = np.random.choice([0, 1], size=(num_genes, num_markers), p=[3./4, 1./4])"
   ]
  },
  {
   "cell_type": "code",
   "execution_count": 37,
   "id": "korean-inspection",
   "metadata": {},
   "outputs": [],
   "source": [
    "D = M@P"
   ]
  },
  {
   "cell_type": "markdown",
   "id": "expanded-penguin",
   "metadata": {},
   "source": [
    "### Nuclear norm minimization"
   ]
  },
  {
   "cell_type": "code",
   "execution_count": 20,
   "id": "spatial-sunset",
   "metadata": {},
   "outputs": [],
   "source": [
    "import cvxpy as cp"
   ]
  },
  {
   "cell_type": "code",
   "execution_count": 21,
   "id": "convenient-david",
   "metadata": {},
   "outputs": [],
   "source": [
    "delta = 1e-7*D.shape[0]*D.shape[1]"
   ]
  },
  {
   "cell_type": "code",
   "execution_count": 22,
   "id": "oriented-paradise",
   "metadata": {},
   "outputs": [],
   "source": [
    "X = cp.Variable((num_cells, num_genes))\n",
    "cost = cp.norm(X, 'nuc')\n",
    "constraints = [\n",
    "    cp.norm(X@P-D, 'fro') <= delta,\n",
    "    cp.min(X)>=0]"
   ]
  },
  {
   "cell_type": "code",
   "execution_count": 23,
   "id": "individual-lightweight",
   "metadata": {},
   "outputs": [],
   "source": [
    "prob = cp.Problem(cp.Minimize(cost), constraints)"
   ]
  },
  {
   "cell_type": "code",
   "execution_count": 24,
   "id": "painted-drama",
   "metadata": {},
   "outputs": [
    {
     "name": "stdout",
     "output_type": "stream",
     "text": [
      "Failure:Interrupted\n"
     ]
    },
    {
     "ename": "SolverError",
     "evalue": "Solver 'SCS' failed. Try another solver, or solve with verbose=True for more information.",
     "output_type": "error",
     "traceback": [
      "\u001b[0;31m---------------------------------------------------------------------------\u001b[0m",
      "\u001b[0;31mSolverError\u001b[0m                               Traceback (most recent call last)",
      "\u001b[0;32m<ipython-input-24-613465fcbb4d>\u001b[0m in \u001b[0;36m<module>\u001b[0;34m\u001b[0m\n\u001b[0;32m----> 1\u001b[0;31m \u001b[0mprob\u001b[0m\u001b[0;34m.\u001b[0m\u001b[0msolve\u001b[0m\u001b[0;34m(\u001b[0m\u001b[0;34m)\u001b[0m\u001b[0;34m\u001b[0m\u001b[0;34m\u001b[0m\u001b[0m\n\u001b[0m",
      "\u001b[0;32m~/anaconda3/envs/single_cell/lib/python3.8/site-packages/cvxpy/problems/problem.py\u001b[0m in \u001b[0;36msolve\u001b[0;34m(self, *args, **kwargs)\u001b[0m\n\u001b[1;32m    457\u001b[0m         \u001b[0;32melse\u001b[0m\u001b[0;34m:\u001b[0m\u001b[0;34m\u001b[0m\u001b[0;34m\u001b[0m\u001b[0m\n\u001b[1;32m    458\u001b[0m             \u001b[0msolve_func\u001b[0m \u001b[0;34m=\u001b[0m \u001b[0mProblem\u001b[0m\u001b[0;34m.\u001b[0m\u001b[0m_solve\u001b[0m\u001b[0;34m\u001b[0m\u001b[0;34m\u001b[0m\u001b[0m\n\u001b[0;32m--> 459\u001b[0;31m         \u001b[0;32mreturn\u001b[0m \u001b[0msolve_func\u001b[0m\u001b[0;34m(\u001b[0m\u001b[0mself\u001b[0m\u001b[0;34m,\u001b[0m \u001b[0;34m*\u001b[0m\u001b[0margs\u001b[0m\u001b[0;34m,\u001b[0m \u001b[0;34m**\u001b[0m\u001b[0mkwargs\u001b[0m\u001b[0;34m)\u001b[0m\u001b[0;34m\u001b[0m\u001b[0;34m\u001b[0m\u001b[0m\n\u001b[0m\u001b[1;32m    460\u001b[0m \u001b[0;34m\u001b[0m\u001b[0m\n\u001b[1;32m    461\u001b[0m     \u001b[0;34m@\u001b[0m\u001b[0mclassmethod\u001b[0m\u001b[0;34m\u001b[0m\u001b[0;34m\u001b[0m\u001b[0m\n",
      "\u001b[0;32m~/anaconda3/envs/single_cell/lib/python3.8/site-packages/cvxpy/problems/problem.py\u001b[0m in \u001b[0;36m_solve\u001b[0;34m(self, solver, warm_start, verbose, gp, qcp, requires_grad, enforce_dpp, **kwargs)\u001b[0m\n\u001b[1;32m    949\u001b[0m         \u001b[0mend\u001b[0m \u001b[0;34m=\u001b[0m \u001b[0mtime\u001b[0m\u001b[0;34m.\u001b[0m\u001b[0mtime\u001b[0m\u001b[0;34m(\u001b[0m\u001b[0;34m)\u001b[0m\u001b[0;34m\u001b[0m\u001b[0;34m\u001b[0m\u001b[0m\n\u001b[1;32m    950\u001b[0m         \u001b[0mself\u001b[0m\u001b[0;34m.\u001b[0m\u001b[0m_solve_time\u001b[0m \u001b[0;34m=\u001b[0m \u001b[0mend\u001b[0m \u001b[0;34m-\u001b[0m \u001b[0mstart\u001b[0m\u001b[0;34m\u001b[0m\u001b[0;34m\u001b[0m\u001b[0m\n\u001b[0;32m--> 951\u001b[0;31m         \u001b[0mself\u001b[0m\u001b[0;34m.\u001b[0m\u001b[0munpack_results\u001b[0m\u001b[0;34m(\u001b[0m\u001b[0msolution\u001b[0m\u001b[0;34m,\u001b[0m \u001b[0msolving_chain\u001b[0m\u001b[0;34m,\u001b[0m \u001b[0minverse_data\u001b[0m\u001b[0;34m)\u001b[0m\u001b[0;34m\u001b[0m\u001b[0;34m\u001b[0m\u001b[0m\n\u001b[0m\u001b[1;32m    952\u001b[0m         \u001b[0;32mif\u001b[0m \u001b[0mverbose\u001b[0m\u001b[0;34m:\u001b[0m\u001b[0;34m\u001b[0m\u001b[0;34m\u001b[0m\u001b[0m\n\u001b[1;32m    953\u001b[0m             \u001b[0mprint\u001b[0m\u001b[0;34m(\u001b[0m\u001b[0m_FOOTER\u001b[0m\u001b[0;34m)\u001b[0m\u001b[0;34m\u001b[0m\u001b[0;34m\u001b[0m\u001b[0m\n",
      "\u001b[0;32m~/anaconda3/envs/single_cell/lib/python3.8/site-packages/cvxpy/problems/problem.py\u001b[0m in \u001b[0;36munpack_results\u001b[0;34m(self, solution, chain, inverse_data)\u001b[0m\n\u001b[1;32m   1271\u001b[0m             )\n\u001b[1;32m   1272\u001b[0m         \u001b[0;32mif\u001b[0m \u001b[0msolution\u001b[0m\u001b[0;34m.\u001b[0m\u001b[0mstatus\u001b[0m \u001b[0;32min\u001b[0m \u001b[0ms\u001b[0m\u001b[0;34m.\u001b[0m\u001b[0mERROR\u001b[0m\u001b[0;34m:\u001b[0m\u001b[0;34m\u001b[0m\u001b[0;34m\u001b[0m\u001b[0m\n\u001b[0;32m-> 1273\u001b[0;31m             raise error.SolverError(\n\u001b[0m\u001b[1;32m   1274\u001b[0m                     \u001b[0;34m\"Solver '%s' failed. \"\u001b[0m \u001b[0;34m%\u001b[0m \u001b[0mchain\u001b[0m\u001b[0;34m.\u001b[0m\u001b[0msolver\u001b[0m\u001b[0;34m.\u001b[0m\u001b[0mname\u001b[0m\u001b[0;34m(\u001b[0m\u001b[0;34m)\u001b[0m \u001b[0;34m+\u001b[0m\u001b[0;34m\u001b[0m\u001b[0;34m\u001b[0m\u001b[0m\n\u001b[1;32m   1275\u001b[0m                     \u001b[0;34m\"Try another solver, or solve with verbose=True for more \"\u001b[0m\u001b[0;34m\u001b[0m\u001b[0;34m\u001b[0m\u001b[0m\n",
      "\u001b[0;31mSolverError\u001b[0m: Solver 'SCS' failed. Try another solver, or solve with verbose=True for more information."
     ]
    }
   ],
   "source": [
    "prob.solve()"
   ]
  },
  {
   "cell_type": "code",
   "execution_count": null,
   "id": "confirmed-shame",
   "metadata": {},
   "outputs": [],
   "source": [
    "corrs = []\n",
    "for col in range(M.shape[1]):\n",
    "    corrs.append(stats.pearsonr(M[:, col], X.value[:, col])[0])"
   ]
  },
  {
   "cell_type": "code",
   "execution_count": null,
   "id": "qualified-unknown",
   "metadata": {},
   "outputs": [],
   "source": [
    "plt.hist(corrs, bins=10)"
   ]
  },
  {
   "cell_type": "markdown",
   "id": "corporate-guitar",
   "metadata": {},
   "source": [
    "### Alternating least squares"
   ]
  },
  {
   "cell_type": "code",
   "execution_count": 38,
   "id": "caroline-surfing",
   "metadata": {},
   "outputs": [],
   "source": [
    "U_current = np.random.randn(num_cells,rank)+10\n",
    "V_current = np.random.randn(num_genes,rank)+10"
   ]
  },
  {
   "cell_type": "code",
   "execution_count": 39,
   "id": "prescription-begin",
   "metadata": {},
   "outputs": [],
   "source": [
    "import cvxpy as cp"
   ]
  },
  {
   "cell_type": "code",
   "execution_count": 40,
   "id": "passive-cheat",
   "metadata": {},
   "outputs": [],
   "source": [
    "# V_cvx = cp.Variable(V_current.shape)\n",
    "# U_cvx = cp.Parameter(U_current.shape, nonneg=True)\n",
    "# D_cvx = cp.Parameter((num_cells, 1), nonneg=True)\n",
    "# P_cvx = cp.Parameter((num_genes, 1), nonneg=True)\n",
    "# cost = cp.norm(U_cvx@V_cvx.T@P-D_cvx, 'fro')\n",
    "# constraints = [cp.min(V_cvx) >= 0]\n",
    "\n",
    "# prob = cp.Problem(cp.Minimize(cost), constraints)\n",
    "\n",
    "# def solve_u(U_current, V_current):\n",
    "    \n",
    "#     A = P.T@V_current\n",
    "#     return np.apply_along_axis(lambda row: nnls(A, row)[0], axis=1, arr=D)\n",
    "\n",
    "# def solve_v(U_current, V_current):\n",
    "    \n",
    "#     to_return = 0\n",
    "    \n",
    "#     for marker_idx in range(num_markers):\n",
    "    \n",
    "#         U_cvx.value = U_current\n",
    "#         D_cvx.value = D[:, [marker_idx]]\n",
    "#         P_cvx.value = P[:,[marker_idx]]\n",
    "#         V_cvx.value = V_current\n",
    "#         final_cost = prob.solve()\n",
    "        \n",
    "#         to_return += V_cvx.value\n",
    "    \n",
    "#     return to_return/num_cells"
   ]
  },
  {
   "cell_type": "code",
   "execution_count": 41,
   "id": "endangered-improvement",
   "metadata": {},
   "outputs": [],
   "source": [
    "def solve_u(U_current, V_current):\n",
    "    \n",
    "    A = P.T@V_current\n",
    "    return np.apply_along_axis(lambda row: nnls(A, row)[0], axis=1, arr=D)\n",
    "\n",
    "def solve_v(U_current, V_current):\n",
    "    \n",
    "    V_cvx = cp.Variable(V_current.shape)\n",
    "    V_cvx.value = V_current\n",
    "    cost = cp.norm(U_current@V_cvx.T@P-D, 'fro')\n",
    "    constraints = [cp.min(V_cvx) >= 0]\n",
    "    \n",
    "    prob = cp.Problem(cp.Minimize(cost), constraints)\n",
    "    final_cost = prob.solve()\n",
    "    \n",
    "    return V_cvx.value"
   ]
  },
  {
   "cell_type": "code",
   "execution_count": 42,
   "id": "different-priority",
   "metadata": {},
   "outputs": [],
   "source": [
    "# nonneg_constraint = LinearConstraint(np.eye(num_genes * rank), 0, np.inf)\n",
    "\n",
    "# def v_objective(V_vec, U_current):\n",
    "    \n",
    "#     V_temp = V_vec.reshape(V_current.shape)\n",
    "#     return ((U_current@V_temp.T@P-D)**2).sum()\n",
    "    \n",
    "# def solve_v_scipy(U_current, V_current):\n",
    "    \n",
    "#     V_vec = V_current.reshape(-1)\n",
    "    \n",
    "#     res = minimize(lambda v: v_objective(v, U_current), V_vec, constraints=[nonneg_constraint])\n",
    "#     return res"
   ]
  },
  {
   "cell_type": "code",
   "execution_count": 43,
   "id": "sustainable-ribbon",
   "metadata": {},
   "outputs": [],
   "source": [
    "# nonneg_constraint = LinearConstraint(np.eye(num_genes * rank), 0, np.inf)\n",
    "# res = minimize(lambda v: v_objective(v, U_current), V_current.reshape(-1))"
   ]
  },
  {
   "cell_type": "code",
   "execution_count": 44,
   "id": "organized-timber",
   "metadata": {},
   "outputs": [],
   "source": [
    "U_current = solve_u(U_current, V_current)"
   ]
  },
  {
   "cell_type": "code",
   "execution_count": 47,
   "id": "miniature-monkey",
   "metadata": {},
   "outputs": [
    {
     "name": "stdout",
     "output_type": "stream",
     "text": [
      "CPU times: user 33.1 s, sys: 185 ms, total: 33.2 s\n",
      "Wall time: 33.2 s\n"
     ]
    }
   ],
   "source": [
    "%%time\n",
    "# u_error = []\n",
    "# v_error = []\n",
    "for i in range(100):\n",
    "\n",
    "    U_current = solve_u(U_current, V_current)\n",
    "    V_current = solve_v(U_current, V_current)\n",
    "    \n",
    "    break"
   ]
  },
  {
   "cell_type": "code",
   "execution_count": 48,
   "id": "specialized-craps",
   "metadata": {},
   "outputs": [],
   "source": [
    "U_fitted = U_current\n",
    "V_fitted = V_current"
   ]
  },
  {
   "cell_type": "code",
   "execution_count": 49,
   "id": "japanese-papua",
   "metadata": {},
   "outputs": [],
   "source": [
    "M_fitted = U_fitted@V_fitted.T"
   ]
  },
  {
   "cell_type": "code",
   "execution_count": 50,
   "id": "comprehensive-salon",
   "metadata": {},
   "outputs": [
    {
     "data": {
      "text/plain": [
       "array([[1888.36965032, 1579.56127265, 1357.47041186, ..., 1148.36570779,\n",
       "        1741.01656454, 1868.91837721],\n",
       "       [1709.46471285, 1435.6080692 , 1230.17743223, ..., 1043.35674484,\n",
       "        1561.84636886, 1691.68263052],\n",
       "       [1726.78618204, 1475.61735837, 1256.82689742, ..., 1051.023396  ,\n",
       "        1594.30525098, 1716.03426661],\n",
       "       ...,\n",
       "       [1750.10905185, 1510.04688125, 1276.96342332, ..., 1062.0042156 ,\n",
       "        1606.87403172, 1739.00947878],\n",
       "       [1811.13527638, 1500.00433228, 1300.11472133, ..., 1087.466107  ,\n",
       "        1657.13745485, 1787.72227462],\n",
       "       [1619.34838416, 1408.49237188, 1193.38641363, ..., 1003.57209208,\n",
       "        1505.7692461 , 1605.5761831 ]])"
      ]
     },
     "execution_count": 50,
     "metadata": {},
     "output_type": "execute_result"
    }
   ],
   "source": [
    "M_fitted"
   ]
  },
  {
   "cell_type": "code",
   "execution_count": 51,
   "id": "minor-diagram",
   "metadata": {},
   "outputs": [
    {
     "data": {
      "text/plain": [
       "array([[1667.1316563 , 1518.25081344, 1486.35190252, ..., 1522.94213173,\n",
       "        1754.26127179, 1652.67773995],\n",
       "       [1492.46267097, 1374.18553781, 1377.02670022, ..., 1373.07214768,\n",
       "        1563.58181863, 1510.3577748 ],\n",
       "       [1512.24411799, 1382.20640026, 1406.1183873 , ..., 1388.04781659,\n",
       "        1602.49997459, 1518.2753184 ],\n",
       "       ...,\n",
       "       [1547.82280275, 1421.72946454, 1443.31080358, ..., 1416.91085355,\n",
       "        1613.84053425, 1531.89357292],\n",
       "       [1591.53135753, 1425.07528657, 1438.65625784, ..., 1413.90735879,\n",
       "        1661.73632997, 1597.03830962],\n",
       "       [1461.38409524, 1335.61066796, 1351.5683792 , ..., 1340.27296053,\n",
       "        1515.99813671, 1438.17084434]])"
      ]
     },
     "execution_count": 51,
     "metadata": {},
     "output_type": "execute_result"
    }
   ],
   "source": [
    "M"
   ]
  },
  {
   "cell_type": "code",
   "execution_count": 52,
   "id": "altered-plain",
   "metadata": {},
   "outputs": [
    {
     "name": "stdout",
     "output_type": "stream",
     "text": [
      "(0.9824819397388962, 0.0)\n",
      "(0.9883952630144568, 0.0)\n",
      "(0.962543222434418, 1.952896212664096e-284)\n",
      "(0.9930994458776241, 0.0)\n",
      "(0.9869865407936913, 0.0)\n",
      "(0.9809217082360407, 0.0)\n",
      "(0.981294979060586, 0.0)\n",
      "(0.9844265146572148, 0.0)\n",
      "(0.9906339792861916, 0.0)\n",
      "(0.9762721845450449, 0.0)\n",
      "(0.985207641539266, 0.0)\n",
      "(0.9654067495199166, 7.028190793110504e-293)\n",
      "(0.9609525830508534, 5.0248668852659265e-280)\n",
      "(0.9949900921331604, 0.0)\n",
      "(0.99112435849324, 0.0)\n",
      "(0.9829906856772949, 0.0)\n",
      "(0.985349004644607, 0.0)\n",
      "(0.9812459957025002, 0.0)\n",
      "(0.9771633214610873, 0.0)\n",
      "(0.987011879983598, 0.0)\n",
      "(0.9823946108511313, 0.0)\n",
      "(0.9818133520414057, 0.0)\n",
      "(0.9857948802198786, 0.0)\n",
      "(0.9755998035141474, 0.0)\n",
      "(0.9669459318847438, 1.0208511035752284e-297)\n",
      "(0.9845120059038196, 0.0)\n",
      "(0.9745822016888608, 0.0)\n",
      "(0.9684171260980252, 1.464245471753772e-302)\n",
      "(0.9737515147056379, 2.77e-322)\n",
      "(0.9679691207673762, 4.617269581706101e-301)\n",
      "(0.9879327205600071, 0.0)\n",
      "(0.9843953736273147, 0.0)\n",
      "(0.9801401955756244, 0.0)\n",
      "(0.9906264560491775, 0.0)\n",
      "(0.9798432382850464, 0.0)\n",
      "(0.9890999397516435, 0.0)\n",
      "(0.9865744895157573, 0.0)\n",
      "(0.9835912472135502, 0.0)\n",
      "(0.9945259225596875, 0.0)\n",
      "(0.9868723689450026, 0.0)\n",
      "(0.9894967011262332, 0.0)\n",
      "(0.9785262223805555, 0.0)\n",
      "(0.9934819517055868, 0.0)\n",
      "(0.9853324811919428, 0.0)\n",
      "(0.983829959352058, 0.0)\n",
      "(0.9773631598232547, 0.0)\n",
      "(0.9901748937828095, 0.0)\n",
      "(0.9817155245058236, 0.0)\n",
      "(0.9941974554965212, 0.0)\n",
      "(0.9922209584106423, 0.0)\n",
      "(0.9786413977734587, 0.0)\n",
      "(0.9827210406436445, 0.0)\n",
      "(0.9790046743771008, 0.0)\n",
      "(0.987040443983974, 0.0)\n",
      "(0.982141328361771, 0.0)\n",
      "(0.9934111069618616, 0.0)\n",
      "(0.9694504269988915, 4.2143004110700527e-306)\n",
      "(0.9938543216495888, 0.0)\n",
      "(0.9788297848725092, 0.0)\n",
      "(0.9855027396181523, 0.0)\n",
      "(0.9825338398645227, 0.0)\n",
      "(0.9985078161827394, 0.0)\n",
      "(0.9868149577708549, 0.0)\n",
      "(0.9940982295764598, 0.0)\n",
      "(0.9887780316883332, 0.0)\n",
      "(0.9848004079027356, 0.0)\n",
      "(0.9783115489296886, 0.0)\n",
      "(0.98581345048565, 0.0)\n",
      "(0.9872475610316969, 0.0)\n",
      "(0.9844498452631358, 0.0)\n",
      "(0.971184344688937, 2.513813889055e-312)\n",
      "(0.9771205336274766, 0.0)\n",
      "(0.9903472890774533, 0.0)\n",
      "(0.9916949626347817, 0.0)\n",
      "(0.9750231565353711, 0.0)\n",
      "(0.9924737632387028, 0.0)\n",
      "(0.979992000519549, 0.0)\n",
      "(0.9861423685313414, 0.0)\n",
      "(0.9903034484080335, 0.0)\n",
      "(0.9709466146871145, 1.8875084532905e-311)\n",
      "(0.9872457651382277, 0.0)\n",
      "(0.9892690559374959, 0.0)\n",
      "(0.9876742821294264, 0.0)\n",
      "(0.9848340320335907, 0.0)\n",
      "(0.9825714139142179, 0.0)\n",
      "(0.9890111987709636, 0.0)\n",
      "(0.9915193716812463, 0.0)\n",
      "(0.9817285479498015, 0.0)\n",
      "(0.9748404216962687, 0.0)\n",
      "(0.9845561695822849, 0.0)\n",
      "(0.9914509853660395, 0.0)\n",
      "(0.9795792203128366, 0.0)\n",
      "(0.9943271201386721, 0.0)\n",
      "(0.9913291167508214, 0.0)\n",
      "(0.9832401372561299, 0.0)\n",
      "(0.9939224913713267, 0.0)\n",
      "(0.9916368065586236, 0.0)\n",
      "(0.9886169699420605, 0.0)\n",
      "(0.9948530545813857, 0.0)\n",
      "(0.9886122219503629, 0.0)\n"
     ]
    }
   ],
   "source": [
    "for col in range(M.shape[1]):\n",
    "    print(stats.pearsonr(M[:, col], M_fitted[:, col]))"
   ]
  },
  {
   "cell_type": "code",
   "execution_count": null,
   "id": "stone-title",
   "metadata": {},
   "outputs": [],
   "source": []
  }
 ],
 "metadata": {
  "kernelspec": {
   "display_name": "Python 3",
   "language": "python",
   "name": "python3"
  },
  "language_info": {
   "codemirror_mode": {
    "name": "ipython",
    "version": 3
   },
   "file_extension": ".py",
   "mimetype": "text/x-python",
   "name": "python",
   "nbconvert_exporter": "python",
   "pygments_lexer": "ipython3",
   "version": "3.8.8"
  }
 },
 "nbformat": 4,
 "nbformat_minor": 5
}
